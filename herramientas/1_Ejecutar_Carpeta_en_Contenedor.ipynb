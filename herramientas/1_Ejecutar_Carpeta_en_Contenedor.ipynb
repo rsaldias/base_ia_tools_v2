{
 "cells": [
  {
   "cell_type": "markdown",
   "metadata": {},
   "source": [
    "# Comandos básicos para ejecutar carpeta en contenedor"
   ]
  },
  {
   "cell_type": "markdown",
   "metadata": {},
   "source": [
    "#### 1) Verificar si la carpeta esta abierta de forma local o en un contenedor (devcontainer)\n",
    "\n",
    "\n",
    "- Abrir un terminal (Menú Terminal-> New Terminal)\n",
    "- Escribir en el terminal: pwd\n",
    "- Presionar enter\n"
   ]
  },
  {
   "cell_type": "markdown",
   "metadata": {},
   "source": [
    "#### 2) Si la carpeta esta en local, usted debería ver: (La ruta de su computador a la carpeta base_ia_tool debería ser diferente)\n",
    "![](../img/terminal_en_local.png)\n",
    "\n"
   ]
  },
  {
   "cell_type": "markdown",
   "metadata": {},
   "source": [
    "#### 3) Si la carpeta esta corriendo en un contenedor, usted debería ver:\n",
    "![](../img/terminal_devcontainer.png)"
   ]
  },
  {
   "cell_type": "markdown",
   "metadata": {},
   "source": [
    "#### 4) Si ya esta corriendo en un contenedor, estaría todo OK, felicitaciones!"
   ]
  },
  {
   "cell_type": "markdown",
   "metadata": {},
   "source": [
    "#### 5) Si esta en local, realice lo siguiente (hacer click):\n",
    "![](../img/reopen_in_container.png)"
   ]
  },
  {
   "cell_type": "markdown",
   "metadata": {},
   "source": [
    "#### 6) Si es la primera vez que ejecuta esta opción se debería demorar un par de minutos, ya que construye el contenedor e instala todo lo necesario\n",
    "\n",
    "#### 7) Si es el contenedor ya existe, solo se toma un par de segundos en abrir. \n",
    "\n",
    "#### 8) Una forma de ver si el contenedor existe es abrir Docker:\n",
    "\n",
    "![](../img/status_docker.png)"
   ]
  },
  {
   "cell_type": "markdown",
   "metadata": {},
   "source": [
    "#### 9) Para verificar si todo funciona correctamente, ejecute las siguientes celdas:\n",
    "\n",
    "![](../img/ejecutar_celda.png)\n"
   ]
  },
  {
   "cell_type": "code",
   "execution_count": null,
   "metadata": {},
   "outputs": [],
   "source": [
    "print('Hola Python!')"
   ]
  },
  {
   "cell_type": "code",
   "execution_count": 3,
   "metadata": {},
   "outputs": [],
   "source": [
    "import torch\n",
    "import torch.nn as nn\n",
    "from torch import optim\n",
    "import matplotlib.pyplot as plt"
   ]
  },
  {
   "cell_type": "markdown",
   "metadata": {},
   "source": [
    "#### 10) Para cerrar el contenedor y la conección remota:\n",
    "\n",
    "![](../img/close_remote.png)"
   ]
  },
  {
   "cell_type": "markdown",
   "metadata": {},
   "source": [
    "#### 11) Para re abrir la carpeta en local o en el contenedor\n",
    "\n",
    "![](../img/re_open.png)"
   ]
  }
 ],
 "metadata": {
  "kernelspec": {
   "display_name": "Python 3",
   "language": "python",
   "name": "python3"
  },
  "language_info": {
   "codemirror_mode": {
    "name": "ipython",
    "version": 3
   },
   "file_extension": ".py",
   "mimetype": "text/x-python",
   "name": "python",
   "nbconvert_exporter": "python",
   "pygments_lexer": "ipython3",
   "version": "3.10.14"
  }
 },
 "nbformat": 4,
 "nbformat_minor": 2
}
